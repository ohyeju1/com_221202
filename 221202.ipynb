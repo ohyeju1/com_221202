{
  "nbformat": 4,
  "nbformat_minor": 0,
  "metadata": {
    "colab": {
      "provenance": [],
      "authorship_tag": "ABX9TyOUCypr1kvSX+xM0Ey08JTF",
      "include_colab_link": true
    },
    "kernelspec": {
      "name": "python3",
      "display_name": "Python 3"
    },
    "language_info": {
      "name": "python"
    }
  },
  "cells": [
    {
      "cell_type": "markdown",
      "metadata": {
        "id": "view-in-github",
        "colab_type": "text"
      },
      "source": [
        "<a href=\"https://colab.research.google.com/github/ohyeju1/com_221202/blob/main/221202.ipynb\" target=\"_parent\"><img src=\"https://colab.research.google.com/assets/colab-badge.svg\" alt=\"Open In Colab\"/></a>"
      ]
    },
    {
      "cell_type": "code",
      "execution_count": 1,
      "metadata": {
        "colab": {
          "base_uri": "https://localhost:8080/"
        },
        "id": "VRfy7RYiVOTu",
        "outputId": "de623a4d-ace3-481d-fd5e-4d5f556c0913"
      },
      "outputs": [
        {
          "output_type": "stream",
          "name": "stdout",
          "text": [
            "Good morning\n",
            "Good morning\n",
            "Good morning\n",
            "국어 점수를 입력하세요.:60\n",
            "영어 점수를 입력하세요.:70\n",
            "수학 점수를 입력하세요.:80\n",
            "국어,kor\n",
            "영어,eng\n",
            "수학,math\n"
          ]
        }
      ],
      "source": [
        "intro='Good morning'\n",
        "print(intro)\n",
        "print(intro)\n",
        "print(intro)\n",
        "#키보드를 통해서 입력값 받고 출력하기\n",
        "kor=input('국어 점수를 입력하세요.:')\n",
        "eng=input('영어 점수를 입력하세요.:')\n",
        "mat=input('수학 점수를 입력하세요.:')\n",
        "print(\"국어,kor\")\n",
        "print(\"영어,eng\")\n",
        "print(\"수학,math\")"
      ]
    },
    {
      "cell_type": "code",
      "source": [
        "kor=int(input('국어 점수를 입력하세요.'))\n",
        "eng=int(input('영어 점수를 입력하세요.'))\n",
        "mat=int(input('수학 점수를 입력하세요.'))\n",
        "print('총점:',(kor+eng+mat))\n",
        "print('평균:',(kor+eng+mat)/3)"
      ],
      "metadata": {
        "colab": {
          "base_uri": "https://localhost:8080/"
        },
        "id": "mCNplbniV6Mk",
        "outputId": "908ff41d-2f65-4599-be28-f5e056280a48"
      },
      "execution_count": 3,
      "outputs": [
        {
          "output_type": "stream",
          "name": "stdout",
          "text": [
            "국어 점수를 입력하세요.60\n",
            "영어 점수를 입력하세요.70\n",
            "수학 점수를 입력하세요.90\n",
            "총점: 220\n",
            "평균: 73.33333333333333\n"
          ]
        }
      ]
    },
    {
      "cell_type": "code",
      "source": [
        "#정수 2개 입력받아서 더하고, 2로 나누기\n",
        "num1=int(input('첫 번째 정수를 입력하세요.'))\n",
        "num2=int(input('두 번째 정수를 입력하세요.'))\n",
        "print('합:',num1+num2)\n",
        "print('평균:',(num1+num2)/2)"
      ],
      "metadata": {
        "colab": {
          "base_uri": "https://localhost:8080/"
        },
        "id": "zg4FkDrnWbmu",
        "outputId": "e90ef46e-b1bf-449d-9f57-717a57f31d12"
      },
      "execution_count": 4,
      "outputs": [
        {
          "output_type": "stream",
          "name": "stdout",
          "text": [
            "첫 번째 정수를 입력하세요.1\n",
            "두 번째 정수를 입력하세요.2\n",
            "합: 3\n",
            "평균: 1.5\n"
          ]
        }
      ]
    },
    {
      "cell_type": "code",
      "source": [
        "print('사용자 정보를 입력하세요.')\n",
        "name=input('이름:')\n",
        "phone=input('연락처:')\n",
        "mail=input('메일:')\n",
        "job=input('직업:')\n",
        "print(name)\n",
        "print(phone)\n",
        "print(mail)\n",
        "print(job)"
      ],
      "metadata": {
        "colab": {
          "base_uri": "https://localhost:8080/"
        },
        "id": "XoQiWRHCW5c8",
        "outputId": "08f51051-d6f8-4753-fd40-30021b824915"
      },
      "execution_count": 6,
      "outputs": [
        {
          "output_type": "stream",
          "name": "stdout",
          "text": [
            "사용자 정보를 입력하세요.\n",
            "이름:오예주\n",
            "연락처:01000000000\n",
            "메일:oyeju@kunsan.com\n",
            "직업:대학생\n",
            "오예주\n",
            "01000000000\n",
            "oyeju@kunsan.com\n",
            "대학생\n"
          ]
        }
      ]
    },
    {
      "cell_type": "code",
      "source": [],
      "metadata": {
        "id": "s16hQ8mXXdn7"
      },
      "execution_count": null,
      "outputs": []
    }
  ]
}